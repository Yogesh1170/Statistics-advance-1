{
 "cells": [
  {
   "cell_type": "code",
   "execution_count": 1,
   "id": "02eb5a35",
   "metadata": {},
   "outputs": [],
   "source": [
    "#Q1. What is the Probability Density Function?\n",
    "#Ans -- The Probability Density Function (PDF) is a function that describes the likelihood of a continuous random variable taking a specific value. The area under the curve of a PDF over a given range gives the probability that the random variable falls within that range. For continuous random variables, the probability of any exact value is 0, but the PDF provides the probability density.\n"
   ]
  },
  {
   "cell_type": "code",
   "execution_count": 3,
   "id": "ec4da78e",
   "metadata": {},
   "outputs": [
    {
     "data": {
      "text/plain": [
       "'#Q2. What are the types of Probability Distribution?\\nAns -- \\n\\n\\nDiscrete Probability Distribution: These are used when the random variable can take on a countable number of values. Examples include:\\n\\nBinomial Distribution\\nPoisson Distribution\\nGeometric Distribution\\nContinuous Probability Distribution: These are used when the random variable can take on any value within a continuous range. Examples include:\\n\\nNormal Distribution\\nExponential Distribution'"
      ]
     },
     "execution_count": 3,
     "metadata": {},
     "output_type": "execute_result"
    }
   ],
   "source": [
    "'''#Q2. What are the types of Probability Distribution?\n",
    "Ans -- \n",
    "\n",
    "\n",
    "Discrete Probability Distribution: These are used when the random variable can take on a countable number of values. Examples include:\n",
    "\n",
    "Binomial Distribution\n",
    "Poisson Distribution\n",
    "Geometric Distribution\n",
    "Continuous Probability Distribution: These are used when the random variable can take on any value within a continuous range. Examples include:\n",
    "\n",
    "Normal Distribution\n",
    "Exponential Distribution'''\n"
   ]
  },
  {
   "cell_type": "code",
   "execution_count": 4,
   "id": "025dca27",
   "metadata": {},
   "outputs": [
    {
     "name": "stdout",
     "output_type": "stream",
     "text": [
      "PDF at x=2: 0.05399096651318806\n"
     ]
    }
   ],
   "source": [
    "'''Q3. Write a Python function to calculate the probability density function of a normal distribution with given mean and standard deviation at a given point.\n",
    "\n",
    "'''\n",
    "import math\n",
    "\n",
    "def normal_pdf(x, mean, std_dev):\n",
    "    # Calculate the probability density function of a normal distribution\n",
    "    return (1 / (std_dev * math.sqrt(2 * math.pi))) * math.exp(-0.5 * ((x - mean) / std_dev) ** 2)\n",
    "\n",
    "# Example usage:\n",
    "mean = 0\n",
    "std_dev = 1\n",
    "x = 2\n",
    "print(f\"PDF at x={x}: {normal_pdf(x, mean, std_dev)}\")\n"
   ]
  },
  {
   "cell_type": "code",
   "execution_count": 5,
   "id": "6bc18e31",
   "metadata": {},
   "outputs": [
    {
     "data": {
      "text/plain": [
       "'Q4. What are the properties of Binomial distribution? Give two examples of events where binomial distribution can be applied.\\nAns -- Properties of Binomial Distribution:\\n\\nThe number of trials (n) is fixed.\\nEach trial has two possible outcomes: success (p) or failure (1-p).\\nThe trials are independent of each other.\\nThe probability of success (p) remains constant throughout all trials.\\nExamples:\\n\\nCoin Toss: In a coin toss experiment, the probability of heads (success) or tails (failure) remains the same across tosses.\\nQuality Control: In a factory, the probability of a defective product (success) out of a fixed number of items produced.'"
      ]
     },
     "execution_count": 5,
     "metadata": {},
     "output_type": "execute_result"
    }
   ],
   "source": [
    "'''Q4. What are the properties of Binomial distribution? Give two examples of events where binomial distribution can be applied.\n",
    "Ans -- Properties of Binomial Distribution:\n",
    "\n",
    "The number of trials (n) is fixed.\n",
    "Each trial has two possible outcomes: success (p) or failure (1-p).\n",
    "The trials are independent of each other.\n",
    "The probability of success (p) remains constant throughout all trials.\n",
    "Examples:\n",
    "\n",
    "Coin Toss: In a coin toss experiment, the probability of heads (success) or tails (failure) remains the same across tosses.\n",
    "Quality Control: In a factory, the probability of a defective product (success) out of a fixed number of items produced.'''"
   ]
  },
  {
   "cell_type": "code",
   "execution_count": 6,
   "id": "e4df5ba8",
   "metadata": {},
   "outputs": [
    {
     "data": {
      "image/png": "[encoded data removed]",
      "text/plain": [
       "<Figure size 640x480 with 1 Axes>"
      ]
     },
     "metadata": {},
     "output_type": "display_data"
    }
   ],
   "source": [
    "'''Q5. Generate a random sample of size 1000 from a binomial distribution with probability of success 0.4 and plot a histogram of the results using matplotlib.\n",
    "Ams-- '''\n",
    "import numpy as np\n",
    "import matplotlib.pyplot as plt\n",
    "\n",
    "# Generate a random sample of size 1000 from a binomial distribution\n",
    "n = 10  # Number of trials\n",
    "p = 0.4  # Probability of success\n",
    "size = 1000  # Sample size\n",
    "data = np.random.binomial(n, p, size)\n",
    "\n",
    "# Plot a histogram\n",
    "plt.hist(data, bins=range(0, n+2), edgecolor='black')\n",
    "plt.title('Binomial Distribution (n=10, p=0.4)')\n",
    "plt.xlabel('Number of successes')\n",
    "plt.ylabel('Frequency')\n",
    "plt.show()\n",
    "\n"
   ]
  },
  {
   "cell_type": "code",
   "execution_count": 7,
   "id": "d2021619",
   "metadata": {},
   "outputs": [
    {
     "name": "stdout",
     "output_type": "stream",
     "text": [
      "CDF at k=5: 0.9160820579686966\n"
     ]
    }
   ],
   "source": [
    "'''Q6. Write a Python function to calculate the cumulative distribution function of a Poisson distribution with given mean at a given point.\n",
    "Ans -- '''\n",
    "import math\n",
    "\n",
    "def poisson_cdf(k, mean):\n",
    "    cdf = 0\n",
    "    for i in range(k + 1):\n",
    "        cdf += (mean**i * math.exp(-mean)) / math.factorial(i)\n",
    "    return cdf\n",
    "\n",
    "# Example usage:\n",
    "mean = 3\n",
    "k = 5\n",
    "print(f\"CDF at k={k}: {poisson_cdf(k, mean)}\")\n"
   ]
  },
  {
   "cell_type": "code",
   "execution_count": 8,
   "id": "02a15148",
   "metadata": {},
   "outputs": [
    {
     "data": {
      "text/plain": [
       "'Q7. How is Binomial distribution different from Poisson distribution?\\nAns -- Binomial Distribution:\\n\\nDescribes the number of successes in a fixed number of trials (n).\\nEach trial is independent, and the probability of success (p) remains constant.\\nThe distribution has two parameters: n (number of trials) and p (probability of success).\\nPoisson Distribution:\\n\\nDescribes the number of events occurring in a fixed interval of time or space.\\nIt is used when the events occur independently and at a constant average rate.\\nThe distribution has one parameter: λ (average rate of occurrences).'"
      ]
     },
     "execution_count": 8,
     "metadata": {},
     "output_type": "execute_result"
    }
   ],
   "source": [
    "'''Q7. How is Binomial distribution different from Poisson distribution?\n",
    "Ans -- Binomial Distribution:\n",
    "\n",
    "Describes the number of successes in a fixed number of trials (n).\n",
    "Each trial is independent, and the probability of success (p) remains constant.\n",
    "The distribution has two parameters: n (number of trials) and p (probability of success).\n",
    "Poisson Distribution:\n",
    "\n",
    "Describes the number of events occurring in a fixed interval of time or space.\n",
    "It is used when the events occur independently and at a constant average rate.\n",
    "The distribution has one parameter: λ (average rate of occurrences).'''"
   ]
  },
  {
   "cell_type": "code",
   "execution_count": 9,
   "id": "807ae33b",
   "metadata": {},
   "outputs": [
    {
     "name": "stdout",
     "output_type": "stream",
     "text": [
      "Sample Mean: 5.071\n",
      "Sample Variance: 4.691959\n"
     ]
    }
   ],
   "source": [
    "'''Q8. Generate a random sample of size 1000 from a Poisson distribution with mean 5 and calculate the sample mean and variance'''\n",
    "# Generate a random sample of size 1000 from a Poisson distribution\n",
    "lambda_ = 5  # Mean\n",
    "size = 1000  # Sample size\n",
    "data_poisson = np.random.poisson(lambda_, size)\n",
    "\n",
    "# Calculate the sample mean and variance\n",
    "sample_mean = np.mean(data_poisson)\n",
    "sample_variance = np.var(data_poisson)\n",
    "\n",
    "print(f\"Sample Mean: {sample_mean}\")\n",
    "print(f\"Sample Variance: {sample_variance}\")\n"
   ]
  },
  {
   "cell_type": "code",
   "execution_count": 10,
   "id": "429b3e94",
   "metadata": {},
   "outputs": [
    {
     "data": {
      "text/plain": [
       "'Q9. How are mean and variance related in Binomial distribution and Poisson distribution?\\nAns -- Binomial Distribution:\\n\\nThe mean is given by μ = n * p.\\nThe variance is given by σ² = n * p * (1 - p).\\nPoisson Distribution:\\n\\nThe mean is given by μ = λ (where λ is the rate of occurrences).\\nThe variance is also given by σ² = λ.\\nIn both distributions, the mean and variance are related, but in the binomial distribution, the variance depends on both n (number of trials) and p (probability of success), while in the Poisson distribution, the mean and variance are equal (both are λ).'"
      ]
     },
     "execution_count": 10,
     "metadata": {},
     "output_type": "execute_result"
    }
   ],
   "source": [
    "'''Q9. How are mean and variance related in Binomial distribution and Poisson distribution?\n",
    "Ans -- Binomial Distribution:\n",
    "\n",
    "The mean is given by μ = n * p.\n",
    "The variance is given by σ² = n * p * (1 - p).\n",
    "Poisson Distribution:\n",
    "\n",
    "The mean is given by μ = λ (where λ is the rate of occurrences).\n",
    "The variance is also given by σ² = λ.\n",
    "In both distributions, the mean and variance are related, but in the binomial distribution, the variance depends on both n (number of trials) and p (probability of success), while in the Poisson distribution, the mean and variance are equal (both are λ).'''"
   ]
  },
  {
   "cell_type": "code",
   "execution_count": 11,
   "id": "6170696c",
   "metadata": {},
   "outputs": [
    {
     "data": {
      "text/plain": [
       "'Q10. In normal distribution with respect to mean position, where does the least frequent data appear?\\nAns -- In a normal distribution, the least frequent data appears at the extremes (far away from the mean). The probability density decreases as you move further from the mean in either direction, with the least frequent data located in the tails of the distribution.\\n'"
      ]
     },
     "execution_count": 11,
     "metadata": {},
     "output_type": "execute_result"
    }
   ],
   "source": [
    "'''Q10. In normal distribution with respect to mean position, where does the least frequent data appear?\n",
    "Ans -- In a normal distribution, the least frequent data appears at the extremes (far away from the mean). The probability density decreases as you move further from the mean in either direction, with the least frequent data located in the tails of the distribution.\n",
    "'''"
   ]
  },
  {
   "cell_type": "code",
   "execution_count": null,
   "id": "a11eec38",
   "metadata": {},
   "outputs": [],
   "source": []
  }
 ],
 "metadata": {
  "kernelspec": {
   "display_name": "Python 3 (ipykernel)",
   "language": "python",
   "name": "python3"
  },
  "language_info": {
   "codemirror_mode": {
    "name": "ipython",
    "version": 3
   },
   "file_extension": ".py",
   "mimetype": "text/x-python",
   "name": "python",
   "nbconvert_exporter": "python",
   "pygments_lexer": "ipython3",
   "version": "3.11.7"
  }
 },
 "nbformat": 4,
 "nbformat_minor": 5
}
